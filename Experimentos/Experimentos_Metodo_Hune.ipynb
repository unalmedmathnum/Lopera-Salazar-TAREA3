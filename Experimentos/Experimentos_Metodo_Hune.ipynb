{
 "cells": [
  {
   "cell_type": "code",
   "execution_count": 8,
   "metadata": {},
   "outputs": [],
   "source": [
    "import numpy as np\n",
    "import matplotlib.pyplot as plt\n",
    "from scipy.interpolate import CubicSpline\n",
    "from scipy.integrate import quad\n",
    "from scipy.integrate import solve_ivp\n",
    "from ipywidgets import interact\n",
    "\n",
    "\n",
    "def hune_system(f_list, a, b, initial_values, n_grid_points):\n",
    "    n_grid_points = int(n_grid_points)\n",
    "    h = (b - a) / n_grid_points\n",
    "    dim = len(f_list)\n",
    "    w = np.zeros((n_grid_points + 1, dim))\n",
    "    t_values = np.linspace(a, b, n_grid_points + 1)\n",
    "    w[0, :] = initial_values\n",
    "\n",
    "    for i in range(n_grid_points):\n",
    "        ti = t_values[i]\n",
    "        k1 = np.array([f(ti, *w[i, :]) for f in f_list])\n",
    "        k2 = np.array([f(ti + h / 3, *(w[i, :] + (h / 3) * k1)) for f in f_list])\n",
    "        k3 = np.array([f(ti + (2 / 3) * h, *(w[i, :] + (2 / 3) * h * k2)) for f in f_list])\n",
    "\n",
    "        w[i + 1, :] = w[i, :] + (h / 4) * (k1 + 3 * k3)\n",
    "\n",
    "    return t_values, w\n",
    "\n",
    "\n",
    "\n",
    "def sloshing(t, y, epsilon, lam, Omega):\n",
    "  y1, y2 = y\n",
    "  dy1_dt = y2\n",
    "  dy2_dt = - (1 + epsilon * lam * Omega**2 * np.cos(Omega * t)) * (y1 - (epsilon**2 / 6) * y1**3)\n",
    "\n",
    "  return [dy1_dt, dy2_dt]\n",
    "\n",
    "def sloshing_functions(epsilon, lam, omega):\n",
    "\n",
    "  def y_1_prime(t, y1, y2):\n",
    "    return y2\n",
    "\n",
    "  def y_2_prime(t, y1, y2):\n",
    "    return - (1 + epsilon * lam * omega**2 * np.cos(omega * t)) * (y1 - (epsilon**2 / 6) * y1**3)\n",
    "\n",
    "  return [y_1_prime, y_2_prime]\n",
    "\n",
    "\n",
    "t_span = (0.0, 6.0)\n",
    "#Valores iniciales y_1(0) = 0.0 y y_2(0) = 0.1\n",
    "y0 = [0.0, 0.1]\n",
    "t_eval = np.linspace(t_span[0], t_span[1], 1000)\n",
    "\n",
    "epsilon2, lam2, Omega2 = 0.5, 1, 2\n",
    "\n",
    "sol2 = solve_ivp(sloshing, t_span, y0, method='RK45' ,args=(epsilon2, lam2, Omega2), dense_output=True)\n",
    "y1_sol2 = sol2.sol(t_eval)[0]\n",
    "y2_sol2 = sol2.sol(t_eval)[1]\n",
    "sols = [y1_sol2, y2_sol2]\n",
    "\n",
    "\n",
    "def plot_hune_solution(t_values, w):\n",
    "    num_functions = w.shape[1]\n",
    "    fig, axes = plt.subplots(num_functions, 1, figsize=(10, 6))\n",
    "\n",
    "    if num_functions == 1:\n",
    "        axes = [axes]\n",
    "\n",
    "    for i, ax in enumerate(axes):\n",
    "        cs = CubicSpline(t_values, w[:, i])\n",
    "        t_fine = np.linspace(t_values[0], t_values[-1], 1000)\n",
    "        w_fine = cs(t_fine)\n",
    "        ax.plot(t_fine, w_fine, label=f'$y_{i+1}(t)$', color='orange')\n",
    "        ax.plot(t_eval, sols[i], label=r'$\\varepsilon=0.5,\\ \\lambda=1,\\ \\Omega=2$', color ='gray', linestyle = 'dashed')\n",
    "        plt.subplots_adjust(hspace=0.4)  # Aumenta el espacio vertical\n",
    "        ax.set_xlabel('Tiempo escalado ($\\omega$t)')\n",
    "        ax.set_ylabel(f'$y_{i+1}(t)$')\n",
    "        ax.set_title(f'Solución para $y_{i+1}(t)$')\n",
    "        ax.legend()\n",
    "        ax.grid()\n",
    "\n",
    "epsilon1, lam1, Omega1 = 0.1, 0.3, 1\n",
    "t_span = (0.0, 6.0)\n",
    "#Valores iniciales y_1(0) = 0.0 y y_2(0.1) = 0.1\n",
    "y0 = [0.0, 0.1]\n"
   ]
  },
  {
   "cell_type": "code",
   "execution_count": null,
   "metadata": {},
   "outputs": [
    {
     "data": {
      "application/vnd.jupyter.widget-view+json": {
       "model_id": "6be4434ab7ff4a448fb0b8a97b846f6f",
       "version_major": 2,
       "version_minor": 0
      },
      "text/plain": [
       "interactive(children=(IntSlider(value=10, description='tam_malla', max=20, min=1), Output()), _dom_classes=('w…"
      ]
     },
     "metadata": {},
     "output_type": "display_data"
    },
    {
     "data": {
      "text/plain": [
       "<function __main__.interactive_plot(tam_malla)>"
      ]
     },
     "execution_count": 9,
     "metadata": {},
     "output_type": "execute_result"
    }
   ],
   "source": [
    "def interactive_plot(tam_malla):\n",
    "    tam_malla= int(tam_malla)\n",
    "    t_values, w = hune_system(sloshing_functions(0.5, 1, 2), 0, 6, [0, 0.1], tam_malla)\n",
    "    plot_hune_solution(t_values, w)\n",
    "\n",
    "interact(interactive_plot, tam_malla=(1, 20, 1))"
   ]
  }
 ],
 "metadata": {
  "kernelspec": {
   "display_name": "Python 3",
   "language": "python",
   "name": "python3"
  },
  "language_info": {
   "codemirror_mode": {
    "name": "ipython",
    "version": 3
   },
   "file_extension": ".py",
   "mimetype": "text/x-python",
   "name": "python",
   "nbconvert_exporter": "python",
   "pygments_lexer": "ipython3",
   "version": "3.10.7"
  }
 },
 "nbformat": 4,
 "nbformat_minor": 2
}
